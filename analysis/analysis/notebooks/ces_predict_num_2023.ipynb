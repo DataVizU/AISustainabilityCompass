{
 "cells": [
  {
   "cell_type": "code",
   "execution_count": 31,
   "id": "initial_id",
   "metadata": {
    "collapsed": true,
    "ExecuteTime": {
     "end_time": "2023-11-05T14:21:16.906714Z",
     "start_time": "2023-11-05T14:21:16.743129Z"
    }
   },
   "outputs": [],
   "source": [
    "import numpy as np\n",
    "from scipy.optimize import curve_fit\n",
    "import pandas as pd\n",
    "from scipy.stats import t\n",
    "\n",
    "from logistic_growth import logistic_growth"
   ]
  },
  {
   "cell_type": "code",
   "execution_count": 18,
   "outputs": [],
   "source": [
    "data = pd.read_csv('../data/region/就业总人数.csv', index_col=0)"
   ],
   "metadata": {
    "collapsed": false,
    "ExecuteTime": {
     "end_time": "2023-11-05T14:11:32.057972Z",
     "start_time": "2023-11-05T14:11:32.048162Z"
    }
   },
   "id": "29ba665e8ac4eec7"
  },
  {
   "cell_type": "code",
   "execution_count": 28,
   "outputs": [],
   "source": [
    "years = np.array([int(year) for year in data.columns])\n",
    "time_points = years - min(years)"
   ],
   "metadata": {
    "collapsed": false,
    "ExecuteTime": {
     "end_time": "2023-11-05T14:20:58.394715Z",
     "start_time": "2023-11-05T14:20:58.379282Z"
    }
   },
   "id": "7c597f08afaa552f"
  },
  {
   "cell_type": "code",
   "execution_count": 32,
   "outputs": [],
   "source": [
    "predictions = {}\n",
    "confidence_intervals = {}"
   ],
   "metadata": {
    "collapsed": false,
    "ExecuteTime": {
     "end_time": "2023-11-05T14:21:28.191152Z",
     "start_time": "2023-11-05T14:21:28.187509Z"
    }
   },
   "id": "8435f98961b36f01"
  },
  {
   "cell_type": "code",
   "execution_count": 34,
   "outputs": [],
   "source": [
    "for region in data.index:\n",
    "    employment = data.loc[region].dropna().values\n",
    "    t_region = time_points[:len(employment)]\n",
    "\n",
    "    # 初始参数猜测\n",
    "    initial_guess = [max(employment), 0.1, employment[0]]\n",
    "\n",
    "    # 拟合逻辑斯蒂模型\n",
    "    try:\n",
    "        params, covariance = curve_fit(logistic_growth, t_region, employment, p0=initial_guess)\n",
    "        K, r, x0 = params\n",
    "        \n",
    "        # 计算参数标准差\n",
    "        p_stderr = np.sqrt(np.diag(covariance))\n",
    "        n = len(employment)  # 样本大小\n",
    "\n",
    "        # t分布的临界值，对于95%置信区间\n",
    "        t_critical = t.ppf(1 - 0.05 / 2, df=n - 1)\n",
    "\n",
    "        # 计算每个参数的95%置信区间\n",
    "        ci = t_critical * p_stderr\n",
    "\n",
    "        # 预测2023年的就业人数\n",
    "        t_future = 2023 - min(years)\n",
    "        employment_pred = logistic_growth(t_future, K, r, x0)\n",
    "\n",
    "        # 存储结果\n",
    "        predictions[region] = employment_pred\n",
    "        confidence_intervals[region] = ci\n",
    "\n",
    "    except RuntimeError as e:\n",
    "        print(f\"未能拟合模型于地区：{region}。原因：{e}\")"
   ],
   "metadata": {
    "collapsed": false,
    "ExecuteTime": {
     "end_time": "2023-11-05T14:22:13.364443Z",
     "start_time": "2023-11-05T14:22:13.356281Z"
    }
   },
   "id": "44048b9fc2ef4393"
  },
  {
   "cell_type": "code",
   "execution_count": 39,
   "outputs": [
    {
     "name": "stdout",
     "output_type": "stream",
     "text": [
      "2023年各地区的就业人数预测及其95%置信区间：\n",
      "北京: 1197.38 (95% CI for K: 1156.89 to 1237.86) True\n",
      "天津: 688.68 (95% CI for K: 646.40 to 730.97) True\n",
      "河北: 3846.64 (95% CI for K: 3715.69 to 3977.58) True\n",
      "山西: 1811.15 (95% CI for K: 1703.26 to 1919.03) True\n",
      "内蒙古: 1320.59 (95% CI for K: 1133.36 to 1507.82) True\n",
      "辽宁: 2321.32 (95% CI for K: 2208.67 to 2433.97) True\n",
      "吉林: 1356.66 (95% CI for K: 1284.54 to 1428.79) True\n",
      "黑龙江: 1767.51 (95% CI for K: 1648.00 to 1887.02) True\n",
      "上海: 1446.22 (95% CI for K: 1211.10 to 1681.33) True\n",
      "江苏: 4901.05 (95% CI for K: 4819.75 to 4982.35) True\n",
      "浙江: 3909.28 (95% CI for K: 3235.53 to 4583.02) True\n",
      "安徽: 4022.87 (95% CI for K: 3724.71 to 4321.03) True\n",
      "福建: 2258.06 (95% CI for K: 2165.59 to 2350.52) True\n",
      "江西: 2332.06 (95% CI for K: 2287.42 to 2376.70) True\n",
      "山东: 5719.26 (95% CI for K: 5633.23 to 5805.29) True\n",
      "河南: 4869.60 (95% CI for K: 1056.16 to 8683.03) True\n",
      "湖北: 3330.75 (95% CI for K: -282.80 to 6944.29) True\n",
      "湖南: 3790.89 (95% CI for K: 3656.14 to 3925.63) True\n",
      "广东: 7193.35 (95% CI for K: 6901.13 to 7485.57) True\n",
      "广西: 2679.36 (95% CI for K: 2617.94 to 2740.77) True\n",
      "海南: 562.08 (95% CI for K: 482.42 to 641.75) True\n",
      "重庆: 1662.12 (95% CI for K: -1129612213782829.50 to 1129612213786153.50) True\n",
      "四川: 4690.12 (95% CI for K: 4671.01 to 4709.23) True\n",
      "贵州: 1832.90 (95% CI for K: 1356.20 to 2309.59) True\n",
      "云南: 2859.65 (95% CI for K: 2759.34 to 2959.96) True\n",
      "西藏: 196.15 (95% CI for K: 185.17 to 207.13) True\n",
      "陕西: 2117.71 (95% CI for K: 2090.58 to 2144.84) True\n",
      "甘肃: 1290.79 (95% CI for K: -7304488205869.91 to 7304488208451.48) True\n",
      "青海: 290.84 (95% CI for K: 285.27 to 296.42) True\n",
      "宁夏: 349.51 (95% CI for K: 336.01 to 363.01) True\n",
      "新疆: 1418.27 (95% CI for K: 1137.62 to 1698.93) True\n"
     ]
    }
   ],
   "source": [
    "print(\"2023年各地区的就业人数预测及其95%置信区间：\")\n",
    "for region in predictions:\n",
    "    K_pred = predictions[region]\n",
    "    K_lower_bound = K_pred - confidence_intervals[region][0]\n",
    "    K_upper_bound = K_pred + confidence_intervals[region][0]\n",
    "    print(f\"{region}: {K_pred:.2f} (95% CI for K: {K_lower_bound:.2f} to {K_upper_bound:.2f}) {K_lower_bound<=K_pred<=K_upper_bound}\")"
   ],
   "metadata": {
    "collapsed": false,
    "ExecuteTime": {
     "end_time": "2023-11-05T14:25:03.853613Z",
     "start_time": "2023-11-05T14:25:03.848165Z"
    }
   },
   "id": "6b6f370814063f93"
  },
  {
   "cell_type": "code",
   "execution_count": 40,
   "outputs": [],
   "source": [
    "res = []"
   ],
   "metadata": {
    "collapsed": false,
    "ExecuteTime": {
     "end_time": "2023-11-05T14:44:14.972252Z",
     "start_time": "2023-11-05T14:44:14.960929Z"
    }
   },
   "id": "58e93b006fdcfbcd"
  },
  {
   "cell_type": "code",
   "execution_count": 41,
   "outputs": [],
   "source": [
    "for region in predictions:\n",
    "    K_pred = predictions[region]\n",
    "    res.append([region, K_pred])"
   ],
   "metadata": {
    "collapsed": false,
    "ExecuteTime": {
     "end_time": "2023-11-05T14:44:27.844944Z",
     "start_time": "2023-11-05T14:44:27.842364Z"
    }
   },
   "id": "d5e9cdf62b903903"
  },
  {
   "cell_type": "code",
   "execution_count": 42,
   "outputs": [],
   "source": [
    "res_pd = pd.DataFrame(res, columns=['地区', '总人数'])"
   ],
   "metadata": {
    "collapsed": false,
    "ExecuteTime": {
     "end_time": "2023-11-05T14:44:58.490218Z",
     "start_time": "2023-11-05T14:44:58.485344Z"
    }
   },
   "id": "f58fc4ef69d4b52f"
  },
  {
   "cell_type": "code",
   "execution_count": 43,
   "outputs": [],
   "source": [
    "res_pd.to_csv(\"../data/region/就业总人数预测2023.csv\", index=False)"
   ],
   "metadata": {
    "collapsed": false,
    "ExecuteTime": {
     "end_time": "2023-11-05T14:45:35.362093Z",
     "start_time": "2023-11-05T14:45:35.351656Z"
    }
   },
   "id": "4673bd09644d2ba4"
  },
  {
   "cell_type": "code",
   "execution_count": null,
   "outputs": [],
   "source": [],
   "metadata": {
    "collapsed": false
   },
   "id": "15307702e7c39c18"
  }
 ],
 "metadata": {
  "kernelspec": {
   "display_name": "Python 3",
   "language": "python",
   "name": "python3"
  },
  "language_info": {
   "codemirror_mode": {
    "name": "ipython",
    "version": 2
   },
   "file_extension": ".py",
   "mimetype": "text/x-python",
   "name": "python",
   "nbconvert_exporter": "python",
   "pygments_lexer": "ipython2",
   "version": "2.7.6"
  }
 },
 "nbformat": 4,
 "nbformat_minor": 5
}
