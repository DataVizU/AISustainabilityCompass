{
 "cells": [
  {
   "cell_type": "code",
   "execution_count": 1,
   "id": "initial_id",
   "metadata": {
    "collapsed": true,
    "ExecuteTime": {
     "end_time": "2023-11-05T10:16:26.103942Z",
     "start_time": "2023-11-05T10:16:25.254125Z"
    }
   },
   "outputs": [],
   "source": [
    "import pandas as pd"
   ]
  },
  {
   "cell_type": "code",
   "execution_count": 21,
   "outputs": [],
   "source": [
    "df1 = pd.read_csv('../data/region/就业总人数.csv')\n",
    "df2 = pd.read_csv('../data/region/高学历比例.csv')\n",
    "df3 = pd.read_csv('../data/region/gdp.csv')"
   ],
   "metadata": {
    "collapsed": false,
    "ExecuteTime": {
     "end_time": "2023-11-05T10:26:29.105170Z",
     "start_time": "2023-11-05T10:26:29.096091Z"
    }
   },
   "id": "9f4cf9cdb2f93542"
  },
  {
   "cell_type": "code",
   "execution_count": 22,
   "outputs": [],
   "source": [
    "df1 = pd.melt(df1, id_vars=['地区'], var_name='年份', value_name='总人数')\n",
    "df2 = pd.melt(df2, id_vars=['地区'], var_name='年份', value_name='高学历人数占比')\n",
    "df3 = pd.melt(df3, id_vars=['地区'], var_name='年份', value_name='gdp')"
   ],
   "metadata": {
    "collapsed": false,
    "ExecuteTime": {
     "end_time": "2023-11-05T10:26:29.586940Z",
     "start_time": "2023-11-05T10:26:29.578082Z"
    }
   },
   "id": "bc0ef81491ffe4f6"
  },
  {
   "cell_type": "code",
   "execution_count": 40,
   "outputs": [
    {
     "name": "stdout",
     "output_type": "stream",
     "text": [
      "<class 'pandas.core.frame.DataFrame'>\n",
      "RangeIndex: 744 entries, 0 to 743\n",
      "Data columns (total 3 columns):\n",
      " #   Column  Non-Null Count  Dtype  \n",
      "---  ------  --------------  -----  \n",
      " 0   地区      744 non-null    object \n",
      " 1   年份      744 non-null    object \n",
      " 2   总人数     744 non-null    float64\n",
      "dtypes: float64(1), object(2)\n",
      "memory usage: 17.6+ KB\n"
     ]
    }
   ],
   "source": [
    "df1.info()"
   ],
   "metadata": {
    "collapsed": false,
    "ExecuteTime": {
     "end_time": "2023-11-05T10:30:45.312745Z",
     "start_time": "2023-11-05T10:30:45.299737Z"
    }
   },
   "id": "19ef4cbd07c4f14c"
  },
  {
   "cell_type": "code",
   "execution_count": 23,
   "outputs": [
    {
     "data": {
      "text/plain": "    地区    年份      总人数\n0   北京  1999   618.58\n1   天津  1999   508.14\n2   河北  1999  3322.30\n3   山西  1999  1402.19\n4  内蒙古  1999  1056.70",
      "text/html": "<div>\n<style scoped>\n    .dataframe tbody tr th:only-of-type {\n        vertical-align: middle;\n    }\n\n    .dataframe tbody tr th {\n        vertical-align: top;\n    }\n\n    .dataframe thead th {\n        text-align: right;\n    }\n</style>\n<table border=\"1\" class=\"dataframe\">\n  <thead>\n    <tr style=\"text-align: right;\">\n      <th></th>\n      <th>地区</th>\n      <th>年份</th>\n      <th>总人数</th>\n    </tr>\n  </thead>\n  <tbody>\n    <tr>\n      <th>0</th>\n      <td>北京</td>\n      <td>1999</td>\n      <td>618.58</td>\n    </tr>\n    <tr>\n      <th>1</th>\n      <td>天津</td>\n      <td>1999</td>\n      <td>508.14</td>\n    </tr>\n    <tr>\n      <th>2</th>\n      <td>河北</td>\n      <td>1999</td>\n      <td>3322.30</td>\n    </tr>\n    <tr>\n      <th>3</th>\n      <td>山西</td>\n      <td>1999</td>\n      <td>1402.19</td>\n    </tr>\n    <tr>\n      <th>4</th>\n      <td>内蒙古</td>\n      <td>1999</td>\n      <td>1056.70</td>\n    </tr>\n  </tbody>\n</table>\n</div>"
     },
     "execution_count": 23,
     "metadata": {},
     "output_type": "execute_result"
    }
   ],
   "source": [
    "df1.head()"
   ],
   "metadata": {
    "collapsed": false,
    "ExecuteTime": {
     "end_time": "2023-11-05T10:26:30.103602Z",
     "start_time": "2023-11-05T10:26:30.098483Z"
    }
   },
   "id": "78237a7ed5bba639"
  },
  {
   "cell_type": "code",
   "execution_count": 41,
   "outputs": [
    {
     "name": "stdout",
     "output_type": "stream",
     "text": [
      "<class 'pandas.core.frame.DataFrame'>\n",
      "RangeIndex: 651 entries, 0 to 650\n",
      "Data columns (total 3 columns):\n",
      " #   Column   Non-Null Count  Dtype  \n",
      "---  ------   --------------  -----  \n",
      " 0   地区       651 non-null    object \n",
      " 1   年份       651 non-null    object \n",
      " 2   高学历人数占比  651 non-null    float64\n",
      "dtypes: float64(1), object(2)\n",
      "memory usage: 15.4+ KB\n"
     ]
    }
   ],
   "source": [
    "df2.info()"
   ],
   "metadata": {
    "collapsed": false,
    "ExecuteTime": {
     "end_time": "2023-11-05T10:30:55.811756Z",
     "start_time": "2023-11-05T10:30:55.808742Z"
    }
   },
   "id": "51ab86bfd3305de1"
  },
  {
   "cell_type": "code",
   "execution_count": 24,
   "outputs": [
    {
     "data": {
      "text/plain": "    地区    年份  高学历人数占比\n0   北京  2021    43.72\n1   天津  2021    28.13\n2   河北  2021     8.61\n3   山西  2021    11.29\n4  内蒙古  2021    13.56",
      "text/html": "<div>\n<style scoped>\n    .dataframe tbody tr th:only-of-type {\n        vertical-align: middle;\n    }\n\n    .dataframe tbody tr th {\n        vertical-align: top;\n    }\n\n    .dataframe thead th {\n        text-align: right;\n    }\n</style>\n<table border=\"1\" class=\"dataframe\">\n  <thead>\n    <tr style=\"text-align: right;\">\n      <th></th>\n      <th>地区</th>\n      <th>年份</th>\n      <th>高学历人数占比</th>\n    </tr>\n  </thead>\n  <tbody>\n    <tr>\n      <th>0</th>\n      <td>北京</td>\n      <td>2021</td>\n      <td>43.72</td>\n    </tr>\n    <tr>\n      <th>1</th>\n      <td>天津</td>\n      <td>2021</td>\n      <td>28.13</td>\n    </tr>\n    <tr>\n      <th>2</th>\n      <td>河北</td>\n      <td>2021</td>\n      <td>8.61</td>\n    </tr>\n    <tr>\n      <th>3</th>\n      <td>山西</td>\n      <td>2021</td>\n      <td>11.29</td>\n    </tr>\n    <tr>\n      <th>4</th>\n      <td>内蒙古</td>\n      <td>2021</td>\n      <td>13.56</td>\n    </tr>\n  </tbody>\n</table>\n</div>"
     },
     "execution_count": 24,
     "metadata": {},
     "output_type": "execute_result"
    }
   ],
   "source": [
    "df2.head()"
   ],
   "metadata": {
    "collapsed": false,
    "ExecuteTime": {
     "end_time": "2023-11-05T10:26:30.592261Z",
     "start_time": "2023-11-05T10:26:30.588025Z"
    }
   },
   "id": "da07aa47aa49c5"
  },
  {
   "cell_type": "code",
   "execution_count": 42,
   "outputs": [
    {
     "name": "stdout",
     "output_type": "stream",
     "text": [
      "<class 'pandas.core.frame.DataFrame'>\n",
      "RangeIndex: 775 entries, 0 to 774\n",
      "Data columns (total 3 columns):\n",
      " #   Column  Non-Null Count  Dtype  \n",
      "---  ------  --------------  -----  \n",
      " 0   地区      775 non-null    object \n",
      " 1   年份      775 non-null    object \n",
      " 2   gdp     775 non-null    float64\n",
      "dtypes: float64(1), object(2)\n",
      "memory usage: 18.3+ KB\n"
     ]
    }
   ],
   "source": [
    "df3.info()"
   ],
   "metadata": {
    "collapsed": false,
    "ExecuteTime": {
     "end_time": "2023-11-05T10:31:02.176382Z",
     "start_time": "2023-11-05T10:31:02.170744Z"
    }
   },
   "id": "9c278d149d39a8a1"
  },
  {
   "cell_type": "code",
   "execution_count": 25,
   "outputs": [
    {
     "data": {
      "text/plain": "    地区    年份      gdp\n0   北京  2022  41610.9\n1   天津  2022  16311.3\n2   河北  2022  42370.4\n3   山西  2022  25642.6\n4  内蒙古  2022  23158.6",
      "text/html": "<div>\n<style scoped>\n    .dataframe tbody tr th:only-of-type {\n        vertical-align: middle;\n    }\n\n    .dataframe tbody tr th {\n        vertical-align: top;\n    }\n\n    .dataframe thead th {\n        text-align: right;\n    }\n</style>\n<table border=\"1\" class=\"dataframe\">\n  <thead>\n    <tr style=\"text-align: right;\">\n      <th></th>\n      <th>地区</th>\n      <th>年份</th>\n      <th>gdp</th>\n    </tr>\n  </thead>\n  <tbody>\n    <tr>\n      <th>0</th>\n      <td>北京</td>\n      <td>2022</td>\n      <td>41610.9</td>\n    </tr>\n    <tr>\n      <th>1</th>\n      <td>天津</td>\n      <td>2022</td>\n      <td>16311.3</td>\n    </tr>\n    <tr>\n      <th>2</th>\n      <td>河北</td>\n      <td>2022</td>\n      <td>42370.4</td>\n    </tr>\n    <tr>\n      <th>3</th>\n      <td>山西</td>\n      <td>2022</td>\n      <td>25642.6</td>\n    </tr>\n    <tr>\n      <th>4</th>\n      <td>内蒙古</td>\n      <td>2022</td>\n      <td>23158.6</td>\n    </tr>\n  </tbody>\n</table>\n</div>"
     },
     "execution_count": 25,
     "metadata": {},
     "output_type": "execute_result"
    }
   ],
   "source": [
    "df3.head()"
   ],
   "metadata": {
    "collapsed": false,
    "ExecuteTime": {
     "end_time": "2023-11-05T10:26:31.161181Z",
     "start_time": "2023-11-05T10:26:31.158810Z"
    }
   },
   "id": "5fbd5cd325a5bca3"
  },
  {
   "cell_type": "code",
   "execution_count": 26,
   "outputs": [],
   "source": [
    "df = pd.merge(df1, df2, on=['地区', '年份'], how='inner')"
   ],
   "metadata": {
    "collapsed": false,
    "ExecuteTime": {
     "end_time": "2023-11-05T10:26:37.671003Z",
     "start_time": "2023-11-05T10:26:37.666019Z"
    }
   },
   "id": "2a193c15be79c8a0"
  },
  {
   "cell_type": "code",
   "execution_count": 27,
   "outputs": [
    {
     "data": {
      "text/plain": "    地区    年份      总人数  高学历人数占比\n0   北京  2001   628.88      8.2\n1   天津  2001   488.34      3.6\n2   河北  2001  3409.16      0.8\n3   山西  2001  1399.50      1.7\n4  内蒙古  2001  1067.00      1.6",
      "text/html": "<div>\n<style scoped>\n    .dataframe tbody tr th:only-of-type {\n        vertical-align: middle;\n    }\n\n    .dataframe tbody tr th {\n        vertical-align: top;\n    }\n\n    .dataframe thead th {\n        text-align: right;\n    }\n</style>\n<table border=\"1\" class=\"dataframe\">\n  <thead>\n    <tr style=\"text-align: right;\">\n      <th></th>\n      <th>地区</th>\n      <th>年份</th>\n      <th>总人数</th>\n      <th>高学历人数占比</th>\n    </tr>\n  </thead>\n  <tbody>\n    <tr>\n      <th>0</th>\n      <td>北京</td>\n      <td>2001</td>\n      <td>628.88</td>\n      <td>8.2</td>\n    </tr>\n    <tr>\n      <th>1</th>\n      <td>天津</td>\n      <td>2001</td>\n      <td>488.34</td>\n      <td>3.6</td>\n    </tr>\n    <tr>\n      <th>2</th>\n      <td>河北</td>\n      <td>2001</td>\n      <td>3409.16</td>\n      <td>0.8</td>\n    </tr>\n    <tr>\n      <th>3</th>\n      <td>山西</td>\n      <td>2001</td>\n      <td>1399.50</td>\n      <td>1.7</td>\n    </tr>\n    <tr>\n      <th>4</th>\n      <td>内蒙古</td>\n      <td>2001</td>\n      <td>1067.00</td>\n      <td>1.6</td>\n    </tr>\n  </tbody>\n</table>\n</div>"
     },
     "execution_count": 27,
     "metadata": {},
     "output_type": "execute_result"
    }
   ],
   "source": [
    "df.head()"
   ],
   "metadata": {
    "collapsed": false,
    "ExecuteTime": {
     "end_time": "2023-11-05T10:26:39.150064Z",
     "start_time": "2023-11-05T10:26:39.142614Z"
    }
   },
   "id": "3c5a627e88ea5aba"
  },
  {
   "cell_type": "code",
   "execution_count": 28,
   "outputs": [],
   "source": [
    "df = pd.merge(df, df3, on=['地区', '年份'], how='inner')"
   ],
   "metadata": {
    "collapsed": false,
    "ExecuteTime": {
     "end_time": "2023-11-05T10:26:42.396580Z",
     "start_time": "2023-11-05T10:26:42.396012Z"
    }
   },
   "id": "167931c4afb15e70"
  },
  {
   "cell_type": "code",
   "execution_count": 29,
   "outputs": [
    {
     "data": {
      "text/plain": "    地区    年份      总人数  高学历人数占比     gdp\n0   北京  2001   628.88      8.2  3861.5\n1   天津  2001   488.34      3.6  1756.9\n2   河北  2001  3409.16      0.8  5062.9\n3   山西  2001  1399.50      1.7  2029.5\n4  内蒙古  2001  1067.00      1.6  1713.8",
      "text/html": "<div>\n<style scoped>\n    .dataframe tbody tr th:only-of-type {\n        vertical-align: middle;\n    }\n\n    .dataframe tbody tr th {\n        vertical-align: top;\n    }\n\n    .dataframe thead th {\n        text-align: right;\n    }\n</style>\n<table border=\"1\" class=\"dataframe\">\n  <thead>\n    <tr style=\"text-align: right;\">\n      <th></th>\n      <th>地区</th>\n      <th>年份</th>\n      <th>总人数</th>\n      <th>高学历人数占比</th>\n      <th>gdp</th>\n    </tr>\n  </thead>\n  <tbody>\n    <tr>\n      <th>0</th>\n      <td>北京</td>\n      <td>2001</td>\n      <td>628.88</td>\n      <td>8.2</td>\n      <td>3861.5</td>\n    </tr>\n    <tr>\n      <th>1</th>\n      <td>天津</td>\n      <td>2001</td>\n      <td>488.34</td>\n      <td>3.6</td>\n      <td>1756.9</td>\n    </tr>\n    <tr>\n      <th>2</th>\n      <td>河北</td>\n      <td>2001</td>\n      <td>3409.16</td>\n      <td>0.8</td>\n      <td>5062.9</td>\n    </tr>\n    <tr>\n      <th>3</th>\n      <td>山西</td>\n      <td>2001</td>\n      <td>1399.50</td>\n      <td>1.7</td>\n      <td>2029.5</td>\n    </tr>\n    <tr>\n      <th>4</th>\n      <td>内蒙古</td>\n      <td>2001</td>\n      <td>1067.00</td>\n      <td>1.6</td>\n      <td>1713.8</td>\n    </tr>\n  </tbody>\n</table>\n</div>"
     },
     "execution_count": 29,
     "metadata": {},
     "output_type": "execute_result"
    }
   ],
   "source": [
    "df.head()"
   ],
   "metadata": {
    "collapsed": false,
    "ExecuteTime": {
     "end_time": "2023-11-05T10:26:42.854254Z",
     "start_time": "2023-11-05T10:26:42.850880Z"
    }
   },
   "id": "a278db0d9466b7cd"
  },
  {
   "cell_type": "code",
   "execution_count": 32,
   "outputs": [],
   "source": [
    "df['高学历人数'] = df['总人数'] * df['高学历人数占比'] / 100\n",
    "df['低学历人数'] = df['总人数'] - df['高学历人数']"
   ],
   "metadata": {
    "collapsed": false,
    "ExecuteTime": {
     "end_time": "2023-11-05T10:27:59.389757Z",
     "start_time": "2023-11-05T10:27:59.385123Z"
    }
   },
   "id": "b5992d192173abed"
  },
  {
   "cell_type": "code",
   "execution_count": 39,
   "outputs": [
    {
     "name": "stdout",
     "output_type": "stream",
     "text": [
      "<class 'pandas.core.frame.DataFrame'>\n",
      "RangeIndex: 651 entries, 0 to 650\n",
      "Data columns (total 7 columns):\n",
      " #   Column   Non-Null Count  Dtype  \n",
      "---  ------   --------------  -----  \n",
      " 0   地区       651 non-null    object \n",
      " 1   年份       651 non-null    object \n",
      " 2   总人数      651 non-null    float64\n",
      " 3   高学历人数占比  651 non-null    float64\n",
      " 4   gdp      651 non-null    float64\n",
      " 5   高学历人数    651 non-null    float64\n",
      " 6   低学历人数    651 non-null    float64\n",
      "dtypes: float64(5), object(2)\n",
      "memory usage: 35.7+ KB\n"
     ]
    }
   ],
   "source": [
    "df.info()"
   ],
   "metadata": {
    "collapsed": false,
    "ExecuteTime": {
     "end_time": "2023-11-05T10:29:52.032957Z",
     "start_time": "2023-11-05T10:29:52.014424Z"
    }
   },
   "id": "9286edcc452de2be"
  },
  {
   "cell_type": "code",
   "execution_count": 36,
   "outputs": [],
   "source": [
    "df = df.dropna(subset=['总人数', '高学历人数占比'])"
   ],
   "metadata": {
    "collapsed": false,
    "ExecuteTime": {
     "end_time": "2023-11-05T10:29:22.132561Z",
     "start_time": "2023-11-05T10:29:22.129309Z"
    }
   },
   "id": "ae634d1868ab1219"
  },
  {
   "cell_type": "code",
   "execution_count": 38,
   "outputs": [
    {
     "name": "stdout",
     "output_type": "stream",
     "text": [
      "<class 'pandas.core.frame.DataFrame'>\n",
      "RangeIndex: 651 entries, 0 to 650\n",
      "Data columns (total 7 columns):\n",
      " #   Column   Non-Null Count  Dtype  \n",
      "---  ------   --------------  -----  \n",
      " 0   地区       651 non-null    object \n",
      " 1   年份       651 non-null    object \n",
      " 2   总人数      651 non-null    float64\n",
      " 3   高学历人数占比  651 non-null    float64\n",
      " 4   gdp      651 non-null    float64\n",
      " 5   高学历人数    651 non-null    float64\n",
      " 6   低学历人数    651 non-null    float64\n",
      "dtypes: float64(5), object(2)\n",
      "memory usage: 35.7+ KB\n"
     ]
    }
   ],
   "source": [
    "df.info()"
   ],
   "metadata": {
    "collapsed": false,
    "ExecuteTime": {
     "end_time": "2023-11-05T10:29:39.786190Z",
     "start_time": "2023-11-05T10:29:39.783042Z"
    }
   },
   "id": "2193837bc82375ab"
  },
  {
   "cell_type": "code",
   "execution_count": 43,
   "outputs": [],
   "source": [
    "df.to_csv('../data/region/human_structure_gdp.csv', index=False)"
   ],
   "metadata": {
    "collapsed": false,
    "ExecuteTime": {
     "end_time": "2023-11-05T10:33:11.221094Z",
     "start_time": "2023-11-05T10:33:11.212116Z"
    }
   },
   "id": "30e4f856eb23b77c"
  },
  {
   "cell_type": "code",
   "execution_count": null,
   "outputs": [],
   "source": [],
   "metadata": {
    "collapsed": false
   },
   "id": "8009a4b589f6a16b"
  }
 ],
 "metadata": {
  "kernelspec": {
   "display_name": "Python 3",
   "language": "python",
   "name": "python3"
  },
  "language_info": {
   "codemirror_mode": {
    "name": "ipython",
    "version": 2
   },
   "file_extension": ".py",
   "mimetype": "text/x-python",
   "name": "python",
   "nbconvert_exporter": "python",
   "pygments_lexer": "ipython2",
   "version": "2.7.6"
  }
 },
 "nbformat": 4,
 "nbformat_minor": 5
}
