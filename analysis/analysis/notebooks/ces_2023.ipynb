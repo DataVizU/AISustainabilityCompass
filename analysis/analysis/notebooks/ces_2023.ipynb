{
 "cells": [
  {
   "cell_type": "code",
   "execution_count": 10,
   "outputs": [],
   "source": [
    "import json\n",
    "\n",
    "import pandas as pd"
   ],
   "metadata": {
    "collapsed": false,
    "ExecuteTime": {
     "end_time": "2023-11-06T01:46:27.656292Z",
     "start_time": "2023-11-06T01:46:27.653444Z"
    }
   },
   "id": "3eb65373074611d0"
  },
  {
   "cell_type": "code",
   "execution_count": 2,
   "outputs": [],
   "source": [
    "a_df = pd.read_csv(\"../data/region/a_predict_2023.csv\")\n",
    "employment_df = pd.read_csv(\"../data/region/就业总人数预测2023.csv\")\n",
    "highly_educated_df = pd.read_csv(\"../data/region/高学历比例预测2023.csv\")\n",
    "crime_k1_df = pd.read_csv(\"../data/region/犯罪率k1.csv\")"
   ],
   "metadata": {
    "collapsed": false,
    "ExecuteTime": {
     "end_time": "2023-11-06T01:41:50.902914Z",
     "start_time": "2023-11-06T01:41:50.878889Z"
    }
   },
   "id": "83d2d9b23dfd2196"
  },
  {
   "cell_type": "code",
   "execution_count": 3,
   "outputs": [
    {
     "data": {
      "text/plain": "    地区          a\n0   北京  17.793077\n1   天津  12.883778\n2   河北   7.103651\n3   山西   8.166560\n4  内蒙古  10.314830",
      "text/html": "<div>\n<style scoped>\n    .dataframe tbody tr th:only-of-type {\n        vertical-align: middle;\n    }\n\n    .dataframe tbody tr th {\n        vertical-align: top;\n    }\n\n    .dataframe thead th {\n        text-align: right;\n    }\n</style>\n<table border=\"1\" class=\"dataframe\">\n  <thead>\n    <tr style=\"text-align: right;\">\n      <th></th>\n      <th>地区</th>\n      <th>a</th>\n    </tr>\n  </thead>\n  <tbody>\n    <tr>\n      <th>0</th>\n      <td>北京</td>\n      <td>17.793077</td>\n    </tr>\n    <tr>\n      <th>1</th>\n      <td>天津</td>\n      <td>12.883778</td>\n    </tr>\n    <tr>\n      <th>2</th>\n      <td>河北</td>\n      <td>7.103651</td>\n    </tr>\n    <tr>\n      <th>3</th>\n      <td>山西</td>\n      <td>8.166560</td>\n    </tr>\n    <tr>\n      <th>4</th>\n      <td>内蒙古</td>\n      <td>10.314830</td>\n    </tr>\n  </tbody>\n</table>\n</div>"
     },
     "execution_count": 3,
     "metadata": {},
     "output_type": "execute_result"
    }
   ],
   "source": [
    "a_df.head()"
   ],
   "metadata": {
    "collapsed": false,
    "ExecuteTime": {
     "end_time": "2023-11-06T01:42:37.080093Z",
     "start_time": "2023-11-06T01:42:37.030474Z"
    }
   },
   "id": "d6bb4e833d209b32"
  },
  {
   "cell_type": "code",
   "execution_count": 4,
   "outputs": [],
   "source": [
    "# merge data based on location\n",
    "a_df = a_df.merge(employment_df, on=\"地区\")\n",
    "a_df = a_df.merge(highly_educated_df, on=\"地区\")\n",
    "a_df = a_df.merge(crime_k1_df, on=\"地区\")"
   ],
   "metadata": {
    "collapsed": false,
    "ExecuteTime": {
     "end_time": "2023-11-06T01:42:49.135598Z",
     "start_time": "2023-11-06T01:42:49.133633Z"
    }
   },
   "id": "f7e316a35d5e76ad"
  },
  {
   "cell_type": "code",
   "execution_count": 5,
   "outputs": [
    {
     "data": {
      "text/plain": "    地区          a          总人数    高学历人数占比        k1\n0   北京  17.793077  1197.377670  44.732994  0.000717\n1   天津  12.883778   688.683026  30.806590  0.000271\n2   河北   7.103651  3846.637878   9.530984  0.000015\n3   山西   8.166560  1811.146924  12.218328  0.000088\n4  内蒙古  10.314830  1320.588577  15.093787  0.000080",
      "text/html": "<div>\n<style scoped>\n    .dataframe tbody tr th:only-of-type {\n        vertical-align: middle;\n    }\n\n    .dataframe tbody tr th {\n        vertical-align: top;\n    }\n\n    .dataframe thead th {\n        text-align: right;\n    }\n</style>\n<table border=\"1\" class=\"dataframe\">\n  <thead>\n    <tr style=\"text-align: right;\">\n      <th></th>\n      <th>地区</th>\n      <th>a</th>\n      <th>总人数</th>\n      <th>高学历人数占比</th>\n      <th>k1</th>\n    </tr>\n  </thead>\n  <tbody>\n    <tr>\n      <th>0</th>\n      <td>北京</td>\n      <td>17.793077</td>\n      <td>1197.377670</td>\n      <td>44.732994</td>\n      <td>0.000717</td>\n    </tr>\n    <tr>\n      <th>1</th>\n      <td>天津</td>\n      <td>12.883778</td>\n      <td>688.683026</td>\n      <td>30.806590</td>\n      <td>0.000271</td>\n    </tr>\n    <tr>\n      <th>2</th>\n      <td>河北</td>\n      <td>7.103651</td>\n      <td>3846.637878</td>\n      <td>9.530984</td>\n      <td>0.000015</td>\n    </tr>\n    <tr>\n      <th>3</th>\n      <td>山西</td>\n      <td>8.166560</td>\n      <td>1811.146924</td>\n      <td>12.218328</td>\n      <td>0.000088</td>\n    </tr>\n    <tr>\n      <th>4</th>\n      <td>内蒙古</td>\n      <td>10.314830</td>\n      <td>1320.588577</td>\n      <td>15.093787</td>\n      <td>0.000080</td>\n    </tr>\n  </tbody>\n</table>\n</div>"
     },
     "execution_count": 5,
     "metadata": {},
     "output_type": "execute_result"
    }
   ],
   "source": [
    "a_df.head()"
   ],
   "metadata": {
    "collapsed": false,
    "ExecuteTime": {
     "end_time": "2023-11-06T01:42:52.403682Z",
     "start_time": "2023-11-06T01:42:52.401330Z"
    }
   },
   "id": "531ec57a94682a3a"
  },
  {
   "cell_type": "code",
   "execution_count": 6,
   "outputs": [],
   "source": [
    "result = {}"
   ],
   "metadata": {
    "collapsed": false,
    "ExecuteTime": {
     "end_time": "2023-11-06T01:45:32.813255Z",
     "start_time": "2023-11-06T01:45:32.811874Z"
    }
   },
   "id": "c1cdb15de6285439"
  },
  {
   "cell_type": "code",
   "execution_count": 7,
   "outputs": [],
   "source": [
    "for location in a_df[\"地区\"].unique():\n",
    "    location_values = a_df[a_df[\"地区\"] == location].values\n",
    "    result[location] = {\n",
    "        \"a\": location_values[0][1],\n",
    "        \"employment\": location_values[0][2],\n",
    "        \"highly_educated\": location_values[0][3],\n",
    "        \"crime_k1\": location_values[0][4]\n",
    "    }"
   ],
   "metadata": {
    "collapsed": false,
    "ExecuteTime": {
     "end_time": "2023-11-06T01:45:52.020907Z",
     "start_time": "2023-11-06T01:45:52.014477Z"
    }
   },
   "id": "3a5532055ed787d4"
  },
  {
   "cell_type": "code",
   "execution_count": 12,
   "outputs": [],
   "source": [
    "json.dump(result, open(\"../data/region/region_data_2023.json\", \"w\"), ensure_ascii=False)"
   ],
   "metadata": {
    "collapsed": false,
    "ExecuteTime": {
     "end_time": "2023-11-06T01:46:48.354073Z",
     "start_time": "2023-11-06T01:46:48.351929Z"
    }
   },
   "id": "aa986da3c6d36730"
  },
  {
   "cell_type": "code",
   "execution_count": null,
   "outputs": [],
   "source": [],
   "metadata": {
    "collapsed": false
   },
   "id": "309ff7677de98977"
  }
 ],
 "metadata": {
  "kernelspec": {
   "display_name": "Python 3",
   "language": "python",
   "name": "python3"
  },
  "language_info": {
   "codemirror_mode": {
    "name": "ipython",
    "version": 2
   },
   "file_extension": ".py",
   "mimetype": "text/x-python",
   "name": "python",
   "nbconvert_exporter": "python",
   "pygments_lexer": "ipython2",
   "version": "2.7.6"
  }
 },
 "nbformat": 4,
 "nbformat_minor": 5
}
